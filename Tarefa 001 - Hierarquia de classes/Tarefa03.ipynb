{
 "cells": [
  {
   "cell_type": "markdown",
   "id": "8a67c796",
   "metadata": {},
   "source": [
    "# Hierarquia de Estruturas de Dados Lineares\n",
    "# \n",
    "#### Douglas Nery, Felipe Cockless, Rumenick Brandi"
   ]
  },
  {
   "cell_type": "code",
   "execution_count": null,
   "id": "4f86f413",
   "metadata": {},
   "outputs": [],
   "source": []
  },
  {
   "cell_type": "code",
   "execution_count": 4,
   "id": "7d567034",
   "metadata": {},
   "outputs": [],
   "source": [
    "#Hierarquia de Estruturas de Dados Lineares\n",
    "class HEDL:\n",
    "    def __init__(self,Capacity):\n",
    "        self.capacity = Capacity\n",
    "        \n",
    "    def __len__(self):\n",
    "        return self.capacity\n",
    "    \n",
    "    def __getitem__(self, index):\n",
    "        return self.data[index]\n",
    "    \n",
    "    def __setitem__(self, index, value):\n",
    "        self.data[index] = value\n",
    "        \n",
    "    def is_empty(self):\n",
    "        return len(self.data) == 0\n",
    "    \n",
    "    def is_full(self):\n",
    "        return len(self.data) == self.capacity    \n",
    "    \n",
    "    def append(self,data):\n",
    "        if len(self.data) >= self.capacity:\n",
    "            raise FullStackError(\"A estrutura está cheia\")\n",
    "        self.data.append(item)\n",
    "        \n",
    "    def pop(self,index=None):\n",
    "        if self.is_empty():\n",
    "            raise EmptyStackError(\"A estrutura está vazia\")\n",
    "        if index != None:\n",
    "            intermediary = []\n",
    "            for i,item in enumerate(self.data):\n",
    "                if i != index:\n",
    "                    intermediary.append(item)\n",
    "                else:\n",
    "                    excluded_item = item\n",
    "            self.data = intermediary\n",
    "            return excluded_item\n",
    "        else:\n",
    "            return self.data.pop()\n",
    "\n",
    "    #def appbegin(self,data):\n",
    "        #if len(self.data) >= self.capacity:\n",
    "        #    raise FullStackError(\"A pilha está cheia\")\n",
    "        #intermediary_pass = [data]\n",
    "        \n",
    "        \n",
    "class FullStackError(Exception):\n",
    "    pass\n",
    "\n",
    "class EmptyStackError(Exception):\n",
    "    pass"
   ]
  },
  {
   "cell_type": "markdown",
   "id": "62ceb247",
   "metadata": {},
   "source": [
    "# Array"
   ]
  },
  {
   "cell_type": "code",
   "execution_count": 2,
   "id": "d7fd04d7",
   "metadata": {},
   "outputs": [],
   "source": [
    "class array(HEDL):\n",
    "    def __init__(self,array):\n",
    "        self.data = array\n",
    "        super().__init__(len(array))\n",
    "        \n",
    "    def __str__(self):\n",
    "        sttr = \"array(\"\n",
    "        lisst = []\n",
    "        for item in self.data:\n",
    "            lisst.append(item)\n",
    "        sttr = sttr+f\"{lisst})\"\n",
    "        return sttr\n",
    "        \n",
    "    def __mul__(self,other):\n",
    "        if type(other) == int or type(other) == float:\n",
    "            return self.__rmul__(other)\n",
    "        if len(self.data) != len(other):\n",
    "            raise ValueError(\"Arrays must have the same length.\")\n",
    "        result = array([item*other[i] for i,item in enumerate(self.data)])\n",
    "        print(result)\n",
    "        \n",
    "    def __rmul__(self,scalar):\n",
    "        result = array([x*scalar for x in self.data])\n",
    "        print(result)\n",
    "    \n",
    "    def __ge__(self,other):\n",
    "        if len(self.data) != len(other):\n",
    "            raise ValueError(\"Arrays must have the same length.\")\n",
    "        result = []\n",
    "        for index,item in enumerate(self.data):\n",
    "            if item >= other[index]:\n",
    "                result.append(True)\n",
    "            else:\n",
    "                result.append(False)\n",
    "        result = array(result)\n",
    "        print(result)\n",
    "        \n",
    "    def __pow__(self,number):\n",
    "        result = array([item**number for item in self.data])\n",
    "        print(result)"
   ]
  },
  {
   "cell_type": "code",
   "execution_count": 3,
   "id": "2b1ecd72",
   "metadata": {
    "scrolled": false
   },
   "outputs": [
    {
     "name": "stdout",
     "output_type": "stream",
     "text": [
      "array([True, False, True, True])\n",
      "4 4\n",
      "array([50, 10, 15, 20])\n",
      "array([50, 12, 6, 4])\n",
      "array([100, 4, 9, 16])\n",
      "array([10, 2, 3, 4]) array([5, 6, 2, 1])\n"
     ]
    },
    {
     "data": {
      "text/plain": [
       "True"
      ]
     },
     "execution_count": 3,
     "metadata": {},
     "output_type": "execute_result"
    }
   ],
   "source": [
    "#Test area\n",
    "a = array([1,2,3,4])\n",
    "b = array([5,6,2,1])\n",
    "a[0] = 10\n",
    "a>=b\n",
    "print(len(a),len(b))\n",
    "a*5\n",
    "a*b\n",
    "a**2\n",
    "print(a,b)\n",
    "10 == a[0]"
   ]
  },
  {
   "cell_type": "code",
   "execution_count": null,
   "id": "2b980beb",
   "metadata": {},
   "outputs": [],
   "source": []
  },
  {
   "cell_type": "markdown",
   "id": "4e416de5",
   "metadata": {},
   "source": [
    "# Lista Encadeada Simples"
   ]
  },
  {
   "cell_type": "code",
   "execution_count": 3,
   "id": "33d0ad4d",
   "metadata": {},
   "outputs": [],
   "source": [
    "class Node:\n",
    "    def __init__(self, data):\n",
    "        self.data = data\n",
    "        self.next = None"
   ]
  },
  {
   "cell_type": "code",
   "execution_count": 15,
   "id": "2b43a2ca",
   "metadata": {},
   "outputs": [],
   "source": [
    "class LinkedList(HEDL):\n",
    "    def __init__(self):\n",
    "        self.head = None\n",
    "        \n",
    "    def append(self, data):\n",
    "        new_node = Node(data)\n",
    "        if not self.head:\n",
    "            self.head = new_node\n",
    "        else:\n",
    "            current = self.head\n",
    "            while current.next:\n",
    "                current = current.next\n",
    "            current.next = new_node\n",
    "\n",
    "    def __repr__(self):\n",
    "        current = self.head\n",
    "        while current:\n",
    "            print(f\"{current.data}\", end=\" -> \")\n",
    "            current = current.next\n",
    "        #print(\"None\")"
   ]
  },
  {
   "cell_type": "code",
   "execution_count": 16,
   "id": "154c26df",
   "metadata": {},
   "outputs": [
    {
     "name": "stdout",
     "output_type": "stream",
     "text": [
      "1 -> 2 -> 3 -> "
     ]
    },
    {
     "ename": "TypeError",
     "evalue": "__str__ returned non-string (type NoneType)",
     "output_type": "error",
     "traceback": [
      "\u001b[1;31m---------------------------------------------------------------------------\u001b[0m",
      "\u001b[1;31mTypeError\u001b[0m                                 Traceback (most recent call last)",
      "\u001b[1;32m<ipython-input-16-49684b23a496>\u001b[0m in \u001b[0;36m<module>\u001b[1;34m\u001b[0m\n\u001b[0;32m      8\u001b[0m \u001b[1;33m\u001b[0m\u001b[0m\n\u001b[0;32m      9\u001b[0m \u001b[1;31m# Display the linked list\u001b[0m\u001b[1;33m\u001b[0m\u001b[1;33m\u001b[0m\u001b[1;33m\u001b[0m\u001b[0m\n\u001b[1;32m---> 10\u001b[1;33m \u001b[0mprint\u001b[0m\u001b[1;33m(\u001b[0m\u001b[0mmy_list\u001b[0m\u001b[1;33m)\u001b[0m\u001b[1;33m\u001b[0m\u001b[1;33m\u001b[0m\u001b[0m\n\u001b[0m",
      "\u001b[1;31mTypeError\u001b[0m: __str__ returned non-string (type NoneType)"
     ]
    }
   ],
   "source": [
    "# Create a linked list\n",
    "my_list = LinkedList()\n",
    "\n",
    "# Append elements\n",
    "my_list.append(1)\n",
    "my_list.append(2)\n",
    "my_list.append(3)\n",
    "\n",
    "# Display the linked list\n",
    "print(my_list)"
   ]
  },
  {
   "cell_type": "markdown",
   "id": "81e716c5",
   "metadata": {},
   "source": [
    "# Lista Encadeada Dupla"
   ]
  },
  {
   "cell_type": "code",
   "execution_count": null,
   "id": "cacb6b09",
   "metadata": {},
   "outputs": [],
   "source": []
  },
  {
   "cell_type": "markdown",
   "id": "38053572",
   "metadata": {},
   "source": [
    "# Lista Circular Encadeada Simples"
   ]
  },
  {
   "cell_type": "code",
   "execution_count": null,
   "id": "202e8919",
   "metadata": {},
   "outputs": [],
   "source": []
  },
  {
   "cell_type": "markdown",
   "id": "9788a9e4",
   "metadata": {},
   "source": [
    "# Stack"
   ]
  },
  {
   "cell_type": "code",
   "execution_count": 94,
   "id": "0f37c3b8",
   "metadata": {},
   "outputs": [
    {
     "data": {
      "text/plain": [
       "'[1, 2, 3]'"
      ]
     },
     "execution_count": 94,
     "metadata": {},
     "output_type": "execute_result"
    }
   ],
   "source": []
  },
  {
   "cell_type": "markdown",
   "id": "5c624a0b",
   "metadata": {},
   "source": [
    "# Fila Simples"
   ]
  },
  {
   "cell_type": "code",
   "execution_count": null,
   "id": "14713c68",
   "metadata": {},
   "outputs": [],
   "source": []
  }
 ],
 "metadata": {
  "kernelspec": {
   "display_name": "Python 3",
   "language": "python",
   "name": "python3"
  },
  "language_info": {
   "codemirror_mode": {
    "name": "ipython",
    "version": 3
   },
   "file_extension": ".py",
   "mimetype": "text/x-python",
   "name": "python",
   "nbconvert_exporter": "python",
   "pygments_lexer": "ipython3",
   "version": "3.8.8"
  }
 },
 "nbformat": 4,
 "nbformat_minor": 5
}
