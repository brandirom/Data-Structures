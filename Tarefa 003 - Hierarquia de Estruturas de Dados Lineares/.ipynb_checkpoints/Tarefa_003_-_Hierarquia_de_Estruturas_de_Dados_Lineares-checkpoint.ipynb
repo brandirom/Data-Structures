{
 "cells": [
  {
   "cell_type": "markdown",
   "id": "8a67c796",
   "metadata": {},
   "source": [
    "# Hierarquia de Estruturas de Dados Lineares\n",
    "# \n",
    "#### Douglas Nery, Felipe Cockless, Rumenick Brandi"
   ]
  },
  {
   "cell_type": "code",
   "execution_count": 18,
   "id": "7d567034",
   "metadata": {},
   "outputs": [],
   "source": [
    "#Hierarquia de Estruturas de Dados Lineares\n",
    "from array import array as arr\n",
    "\n",
    "class HEDL:\n",
    "    def __init__(self,Capacity):\n",
    "        self.capacity = Capacity\n",
    "        \n",
    "    def __len__(self):\n",
    "        return len(self.data)\n",
    "    \n",
    "    def __getitem__(self, index):\n",
    "        return self.data[index]\n",
    "    \n",
    "    def __setitem__(self, index, value):\n",
    "        self.data[index] = value\n",
    "        \n",
    "    def is_empty(self):\n",
    "        return len(self.data) == 0\n",
    "    \n",
    "    def is_full(self):\n",
    "        return len(self.data) == self.capacity    \n",
    "    \n",
    "    def append(self,data):\n",
    "        if len(self.data) >= self.capacity:\n",
    "            raise FullStackError(\"A estrutura está cheia\")\n",
    "        self.data.append(item)\n",
    "        \n",
    "    def pop(self,index=None):\n",
    "        if self.is_empty():\n",
    "            raise EmptyStackError(\"A estrutura está vazia\")\n",
    "        if index != None:\n",
    "            intermediary = []\n",
    "            for i,item in enumerate(self.data):\n",
    "                if i != index:\n",
    "                    intermediary.append(item)\n",
    "                else:\n",
    "                    excluded_item = item\n",
    "            self.data = intermediary\n",
    "            return excluded_item\n",
    "        else:\n",
    "            return self.data.pop()\n",
    "\n",
    "    def appbegin(self,data):\n",
    "        \"\"\"Returns a copy of the data structure\"\"\"\n",
    "        if len(self.data) >= self.capacity:\n",
    "            raise FullStackError(\"A pilha está cheia\")\n",
    "        copy = [data]\n",
    "        for item in self.data:\n",
    "            copy.append(item)\n",
    "        return copy\n",
    "    \n",
    "class FullStackError(Exception):\n",
    "    pass\n",
    "\n",
    "class EmptyStackError(Exception):\n",
    "    pass"
   ]
  },
  {
   "cell_type": "markdown",
   "id": "fe883f83",
   "metadata": {},
   "source": [
    "# Stack"
   ]
  },
  {
   "cell_type": "code",
   "execution_count": 10,
   "id": "e3029cdf",
   "metadata": {},
   "outputs": [],
   "source": [
    "class Stack(HEDL):\n",
    "    def __init__(self, capacity):\n",
    "        self.capacity = capacity\n",
    "        self.data = []\n",
    "        \n",
    "    def __str__(self):\n",
    "        strr = \" ===\\n\"\n",
    "        for data in self.data[::-1]:\n",
    "            strr += f\"> {data}\\n\"\n",
    "        strr += \" ===\"\n",
    "        return strr\n",
    "    \n",
    "    def size(self):\n",
    "        return self.capacity\n",
    "    \n",
    "    def push(self, item):\n",
    "        if len(self.data) >= self.capacity:\n",
    "            raise FullStackError(\"A pilha está cheia\")\n",
    "        self.data.append(item)\n",
    "    \n",
    "    def swap(self):\n",
    "        if len(self.data) < 2:\n",
    "            raise EmptyStackError(\"A pilha possui menos de dois elementos para trocar\")\n",
    "        self.data[-1], self.data[-2] = self.data[-2], self.data[-1]"
   ]
  },
  {
   "cell_type": "code",
   "execution_count": 11,
   "id": "0a728362",
   "metadata": {},
   "outputs": [
    {
     "name": "stdout",
     "output_type": "stream",
     "text": [
      " ===\n",
      "> 3\n",
      "> 2\n",
      "> 1\n",
      " ===\n",
      "3\n",
      " ===\n",
      "> 1\n",
      "> 2\n",
      " ===\n",
      "2\n"
     ]
    }
   ],
   "source": [
    "# Stack Test\n",
    "a = Stack(4)\n",
    "a.push(1)\n",
    "a.push(2)\n",
    "a.push(3)\n",
    "print(a)\n",
    "print(a.pop())\n",
    "a.swap()\n",
    "print(a)\n",
    "print(len(a))"
   ]
  },
  {
   "cell_type": "markdown",
   "id": "62ceb247",
   "metadata": {},
   "source": [
    "# Array"
   ]
  },
  {
   "cell_type": "code",
   "execution_count": 19,
   "id": "d7fd04d7",
   "metadata": {},
   "outputs": [],
   "source": [
    "class array(HEDL):\n",
    "    def __init__(self,data,dtype=\"float64\"):\n",
    "        types_dic = {\"float64\":\"f\",\"float128\":\"d\",\"int\":\"l\",\"str\":\"u\"}\n",
    "        for key,value in types_dic.items():\n",
    "            if dtype == key:\n",
    "                self.data = arr(value,data)\n",
    "                break\n",
    "        super().__init__(len(data))\n",
    "        \n",
    "    def __str__(self):\n",
    "        sttr = \"array(\"\n",
    "        lisst = []\n",
    "        for item in self.data:\n",
    "            lisst.append(item)\n",
    "        sttr = sttr+f\"{lisst})\"\n",
    "        return sttr\n",
    "        \n",
    "    def __mul__(self,other):\n",
    "        if type(other) == int or type(other) == float:\n",
    "            return self.__rmul__(other)\n",
    "        if len(self.data) != len(other):\n",
    "            raise ValueError(\"Arrays must have the same length.\")\n",
    "        result = array([item*other[i] for i,item in enumerate(self.data)])\n",
    "        print(result)\n",
    "        \n",
    "    def __rmul__(self,scalar):\n",
    "        result = array([x*scalar for x in self.data])\n",
    "        print(result)\n",
    "    \n",
    "    def __ge__(self,other):\n",
    "        if len(self.data) != len(other):\n",
    "            raise ValueError(\"Arrays must have the same length.\")\n",
    "        result = []\n",
    "        for index,item in enumerate(self.data):\n",
    "            if item >= other[index]:\n",
    "                result.append(True)\n",
    "            else:\n",
    "                result.append(False)\n",
    "        result = array(result)\n",
    "        print(result)\n",
    "        \n",
    "    def __pow__(self,number):\n",
    "        result = array([item**number for item in self.data])\n",
    "        print(result)"
   ]
  },
  {
   "cell_type": "code",
   "execution_count": 20,
   "id": "2b1ecd72",
   "metadata": {
    "scrolled": false
   },
   "outputs": [
    {
     "name": "stdout",
     "output_type": "stream",
     "text": [
      "array([1.0, 0.0, 1.0, 1.0])\n",
      "4 4\n",
      "array([50.0, 10.0, 15.0, 20.0])\n",
      "array([50.0, 12.0, 6.0, 4.0])\n",
      "array([100.0, 4.0, 9.0, 16.0])\n",
      "array([10.0, 2.0, 3.0, 4.0]) array([5.0, 6.0, 2.0, 1.0])\n"
     ]
    },
    {
     "data": {
      "text/plain": [
       "True"
      ]
     },
     "execution_count": 20,
     "metadata": {},
     "output_type": "execute_result"
    }
   ],
   "source": [
    "#Test area\n",
    "a = array([1,2,3,4])\n",
    "b = array([5,6,2,1])\n",
    "a[0] = 10\n",
    "a>=b\n",
    "print(len(a),len(b))\n",
    "a*5\n",
    "a*b\n",
    "a**2\n",
    "print(a,b)\n",
    "10 == a[0]"
   ]
  },
  {
   "cell_type": "markdown",
   "id": "4e416de5",
   "metadata": {},
   "source": [
    "# Lista Encadeada Simples"
   ]
  },
  {
   "cell_type": "code",
   "execution_count": 23,
   "id": "33d0ad4d",
   "metadata": {},
   "outputs": [],
   "source": [
    "class Node:\n",
    "    def __init__(self, data):\n",
    "        self.data = data\n",
    "        self.next = None"
   ]
  },
  {
   "cell_type": "code",
   "execution_count": 34,
   "id": "2b43a2ca",
   "metadata": {},
   "outputs": [],
   "source": [
    "class LinkedList(HEDL):\n",
    "    def __init__(self):\n",
    "        self.head = None\n",
    "\n",
    "    def push(self, data):\n",
    "        new_node = Node(data)\n",
    "        new_node.next = self.head\n",
    "        self.head = new_node\n",
    "        \n",
    "    def __str__(self):\n",
    "        sttr = \"\"\n",
    "        current = self.head\n",
    "        while current:\n",
    "            sttr += f\"{current.data}\\n\"\n",
    "            current = current.next\n",
    "        return sttr\n",
    "            "
   ]
  },
  {
   "cell_type": "code",
   "execution_count": 38,
   "id": "154c26df",
   "metadata": {},
   "outputs": [],
   "source": [
    "if __name__ == \"__main__\":\n",
    "\n",
    "    linked_list = LinkedList()\n",
    "\n",
    "    linked_list.push(10)\n",
    "    linked_list.push(20)\n",
    "    linked_list.push(30)\n",
    "    linked_list.push(40)\n",
    "    linked_list.push(50)"
   ]
  },
  {
   "cell_type": "markdown",
   "id": "81e716c5",
   "metadata": {},
   "source": [
    "# Lista Encadeada Dupla"
   ]
  },
  {
   "cell_type": "code",
   "execution_count": null,
   "id": "cacb6b09",
   "metadata": {},
   "outputs": [],
   "source": []
  },
  {
   "cell_type": "markdown",
   "id": "38053572",
   "metadata": {},
   "source": [
    "# Lista Circular Encadeada Simples"
   ]
  },
  {
   "cell_type": "code",
   "execution_count": null,
   "id": "202e8919",
   "metadata": {},
   "outputs": [],
   "source": []
  },
  {
   "cell_type": "markdown",
   "id": "5c624a0b",
   "metadata": {},
   "source": [
    "# Fila Simples"
   ]
  },
  {
   "cell_type": "code",
   "execution_count": null,
   "id": "14713c68",
   "metadata": {},
   "outputs": [],
   "source": []
  }
 ],
 "metadata": {
  "kernelspec": {
   "display_name": "Python 3",
   "language": "python",
   "name": "python3"
  },
  "language_info": {
   "codemirror_mode": {
    "name": "ipython",
    "version": 3
   },
   "file_extension": ".py",
   "mimetype": "text/x-python",
   "name": "python",
   "nbconvert_exporter": "python",
   "pygments_lexer": "ipython3",
   "version": "3.8.8"
  }
 },
 "nbformat": 4,
 "nbformat_minor": 5
}
